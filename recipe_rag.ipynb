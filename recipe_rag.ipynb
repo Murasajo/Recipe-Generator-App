{
 "cells": [
  {
   "cell_type": "code",
   "execution_count": 7,
   "metadata": {},
   "outputs": [
    {
     "name": "stdout",
     "output_type": "stream",
     "text": [
      "Note: you may need to restart the kernel to use updated packages.Collecting jq\n",
      "  Downloading jq-1.8.0-cp311-cp311-win_amd64.whl.metadata (7.2 kB)\n",
      "Downloading jq-1.8.0-cp311-cp311-win_amd64.whl (416 kB)\n",
      "   ---------------------------------------- 0.0/416.9 kB ? eta -:--:--\n",
      "   ---------------------------------------- 0.0/416.9 kB ? eta -:--:--\n",
      "    --------------------------------------- 10.2/416.9 kB ? eta -:--:--\n",
      "    --------------------------------------- 10.2/416.9 kB ? eta -:--:--\n",
      "    --------------------------------------- 10.2/416.9 kB ? eta -:--:--\n",
      "   -- ------------------------------------ 30.7/416.9 kB 186.2 kB/s eta 0:00:03\n",
      "   --- ----------------------------------- 41.0/416.9 kB 163.4 kB/s eta 0:00:03\n",
      "   ----- --------------------------------- 61.4/416.9 kB 217.9 kB/s eta 0:00:02\n",
      "   ------- ------------------------------- 81.9/416.9 kB 269.5 kB/s eta 0:00:02\n",
      "   ---------- --------------------------- 112.6/416.9 kB 327.2 kB/s eta 0:00:01\n",
      "   ------------- ------------------------ 143.4/416.9 kB 355.0 kB/s eta 0:00:01\n",
      "   --------------- ---------------------- 174.1/416.9 kB 388.2 kB/s eta 0:00:01\n",
      "   ------------------ ------------------- 204.8/416.9 kB 429.5 kB/s eta 0:00:01\n",
      "   ----------------------- -------------- 256.0/416.9 kB 476.3 kB/s eta 0:00:01\n",
      "   ------------------------------ ------- 337.9/416.9 kB 566.9 kB/s eta 0:00:01\n",
      "   -------------------------------------- 416.9/416.9 kB 666.7 kB/s eta 0:00:00\n",
      "Installing collected packages: jq\n",
      "Successfully installed jq-1.8.0\n",
      "\n"
     ]
    },
    {
     "name": "stderr",
     "output_type": "stream",
     "text": [
      "\n",
      "[notice] A new release of pip is available: 24.0 -> 25.0\n",
      "[notice] To update, run: python.exe -m pip install --upgrade pip\n"
     ]
    }
   ],
   "source": [
    "pip install jq"
   ]
  },
  {
   "cell_type": "code",
   "execution_count": 45,
   "metadata": {},
   "outputs": [],
   "source": [
    "import os\n",
    "from dotenv import load_dotenv\n",
    "import json\n",
    "from langchain_community.document_loaders import JSONLoader\n",
    "from langchain_community.vectorstores import FAISS\n",
    "from langchain_openai import OpenAIEmbeddings\n",
    "from langchain_text_splitters import RecursiveCharacterTextSplitter\n",
    "from langchain.tools.retriever import create_retriever_tool\n",
    "from langchain_community.tools import WikipediaQueryRun\n",
    "from langchain_community.utilities import WikipediaAPIWrapper\n",
    "from langchain_openai import ChatOpenAI\n",
    "from langchain_core.prompts import ChatPromptTemplate\n",
    "from langchain.chains.combine_documents import create_stuff_documents_chain\n",
    "\n",
    "\n",
    "load_dotenv()\n",
    "os.environ[\"OPENAI_API_KEY\"] = os.getenv(\"OPENAI_API_KEY\")"
   ]
  },
  {
   "cell_type": "code",
   "execution_count": 2,
   "metadata": {},
   "outputs": [],
   "source": [
    "# Load the scraped data from a JSON file\n",
    "json_file_path = \"scraped_recipes.json\"\n",
    "\n",
    "with open(json_file_path, \"r\", encoding=\"utf-8\") as file:\n",
    "    json_data = json.load(file)\n",
    "\n",
    "text_documents = [entry[\"content\"] for entry in json_data if \"content\" in entry]\n"
   ]
  },
  {
   "cell_type": "code",
   "execution_count": 11,
   "metadata": {},
   "outputs": [],
   "source": [
    "# Define jq_schema\n",
    "jq_schema = \".[]\"\n",
    "\n",
    "# Load JSON data from a file\n",
    "json_loader = JSONLoader(file_path=\"scraped_recipes.json\", \n",
    "                         jq_schema=jq_schema, \n",
    "                         text_content=False)\n",
    "docs = json_loader.load()"
   ]
  },
  {
   "cell_type": "code",
   "execution_count": 14,
   "metadata": {},
   "outputs": [
    {
     "name": "stdout",
     "output_type": "stream",
     "text": [
      "Loaded documents: 1715\n",
      "[Document(metadata={'source': 'C:\\\\Users\\\\USER\\\\Desktop\\\\LangChian Course\\\\LangChain-RAG Course\\\\recipe-generator\\\\scraped_recipes.json', 'seq_num': 1}, page_content='{\"title\": \"Creamy Vegan White Bean Chili\", \"content\": \"Minimalist Baker Disclosure: This post may contain affiliate links which provide us a small commission when used for purchase. We\\'re grateful for your support! We love aclassic (tomato-based) chili, but a CREAMY chili? It\\\\u2019s hard to say no to! Mix up your chili rotation with this creamy vegan white bean chili with spicy green chiles, sweet corn, and nutrient-packed spinach or kale. It\\\\u2019s a cozy, subtly spiced, nourishing meal that comes together in just30 minutes. Let us show you how it\\\\u2019s done! This EASY vegan white bean chili starts with asimple yet flavorfulbase of saut\\\\u00e9ed onion, garlic, cumin, cayenne, salt, and pepper. Next, we add green chiles, white beans, and corn. The green chiles add lots of flavor, thewhite beansbulk it up with protein & fiber (20 g protein+13 g fiberper serving!), and the corn adds a little sweetness. Then we make it CREAMY withhomemade cashew milk(just cashews blended with water in apowerful blender)! The final ingredientcouldbe optional, but why not include somegreens (spinach or kale)? Not only are they packed with nutrition, but you\\\\u2019ll hardly know they\\\\u2019re in there, and they add a beautiful color contrast. We think you\\\\u2019ll LOVE this white bean chili! It\\\\u2019s:Super creamyComfortingFlavorfulProtein- & fiber-richSubtly spicyEasy to make& SO delicious! With just 30 minutes required to make it, this chili is veryweeknight-friendly. It alsokeeps well, making it perfect to meal prep and enjoy throughout the week. If you try this recipe, let us know! Leave a comment, rate it, and don\\\\u2019t forget to tag a photo@minimalistbakeron Instagram. Cheers, friends! Tag@minimalistbakeron Instagram and hashtag it#minimalistbakerso we can see all the deliciousness!FacebookTwitterPin It FacebookTwitterPin It Recipes Round-Up Recipes Recipes Have a question?Use ctrl+f or \\\\u2318+f on your computer or the \\\\\"find on page\\\\\" function on your phone browser to search existing comments! Need help?Check out this tutorial! Comment: Name* Email* I Made this I Have a Question Notify me of followup comments via e-mail. You can alsosubscribewithout commenting.You will not be subscribed to our newsletter list.   \\\\u0394 L J Edmanssays January 8, 2025 at 5:31 pm Hi,Do you think this would work with either fresh chilli\\\\u2019s or chilli paste instead of canned? (I don\\\\u2019t know that I\\\\u2019ve ever see canned anywhere \\\\u2013 I\\\\u2019m in the uk) Support @ Minimalist Bakersays January 8, 2025 at 5:51 pm Hi! Do you have access to fresh hatch green chiles? If so, you could definitely roast those and use them instead of canned. If not, perhaps roasting a mix of poblano chiles and a few spicy green chiles + adding a little lime juice might help create something similar? Hope that helps! Ashley Joycesays January 8, 2025 at 2:40 pm This was fantastic! My only swap was I cooked a pound of great northern beans and used those since the store didn\\\\u2019t have dried cannellini beans. Will definitely make this again! So comforting and nourishing. Support @ Minimalist Bakersays January 8, 2025 at 4:12 pm Lovely! We\\\\u2019re so glad you enjoyed the chili, Ashley. Thank you for sharing! xo Jennifer Zarconesays January 8, 2025 at 2:03 pm I just made this recipe. It was so easy to make! It is definitely going to become part of my dinner standard rotation. It did need some more liquid when I was done and I mixed a little tamari, nooch and hot sauce in a cup of water and added that so it didn\\\\u2019t water down the flavor. I also sprinkled with chili powder and apple cider vinegar at the end. I might add some tofurkey chicken next time too. But it is great as is! Support @ Minimalist Bakersays January 8, 2025 at 4:11 pm Yum, your additions sound amazing, Jennifer! Thanks so much for sharing! xo Pam in Sacramentosays January 7, 2025 at 7:40 pm The BEST white chili! Full stop. Period.I had just cooked a pound of Rancho Gordo\\\\u2019s Ayocote Blanco white beans and was trying to decide what to do with them when your recipe popped into my inbox today! I had everything I needed (I love it when that happens). I used 8 oz of 505 Southwestern Hatch medium green chiles (my go-to green chiles) and frozen spinach. Hubby said definitely make this again. He wants it for Superbowl Sunday, too. Score! Thank you! Support @ Minimalist Bakersays January 8, 2025 at 11:34 am Whoop! Thank you for the incredible review, Pam! xoxo Adrianne Petersonsays January 7, 2025 at 7:20 pm Thank you for sending this in my inbox! Was the perfect last minute dinner plan & a huge hit with the whole family! Didn\\\\u2019t have any corn on hand but didn\\\\u2019t need it. Great recipe \\\\u2013 easy & usually have all the ingredients on hand. Will absolutely make again! Support @ Minimalist Bakersays January 8, 2025 at 11:34 am Yay! We\\\\u2019re so glad the chili was a hit with the whole family. Thank you for the lovely review, Adrianne! xo  Get our copy ofFAN FAVORITESfeaturing 20 of our most loved, highly-rated recipes! Our FREE 49-Page Fan Favorites e-Book has 20 recipes we think you\\\\u2019ll LOVE!Please enable JavaScript in your browser to complete this form.Email*NameSubmit Our FREE 49-Page Fan Favorites e-Book has 20 recipes we think you\\\\u2019ll LOVE!Please enable JavaScript in your browser to complete this form.Email*WebsiteSubmit\"}'), Document(metadata={'source': 'C:\\\\Users\\\\USER\\\\Desktop\\\\LangChian Course\\\\LangChain-RAG Course\\\\recipe-generator\\\\scraped_recipes.json', 'seq_num': 2}, page_content='{\"title\": \"Easy Winter Fruit Salad (1 Bowl!)\", \"content\": \"Minimalist Baker Disclosure: This post may contain affiliate links which provide us a small commission when used for purchase. We\\'re grateful for your support! Winter fruits aresurvivors, making it through the coldest days of the year. We had to show them some appreciation. Enter this simple, vibrant winter fruit salad! It almost feelstoosimple to be a recipe (1 bowl,5 ingredients,15 minutes!), but we areMinimalistBaker after all. Let\\\\u2019s make it! This winter fruit salad is indeed EASY! The most complicated part issegmenting an orange. And we promise it onlysoundsintimidating. After you do it once, you\\\\u2019ll be ready to show off your segmenting skills to friends! Or\\\\u2026you can just use a seedless orange! The mainpurpose of segmentingthe orange is toremove the seeds. It does also remove the pith and membranes, ensuring the best texture and maximum sweetness. HOW to segment an orange, you ask? The first step is tocut off the peel. It\\\\u2019s easiest to do this after cutting off the top and bottom of the orange so it sits flat (see photo below). Then you can cut off the sides with ease. Next, you\\\\u2019ll hold the orange in one hand andgently cut inside each membrane(see photo below) to create slices. You\\\\u2019ve now segmented an orange. GO YOU! Next, it\\\\u2019s on to peeling and slicingkiwiand chopping up anapple! Removing the kiwi peel ensures the best flavor and no fuzzy texture. We then like to cut all the fruit intoeven bite-sized piecesbecause somehow it makes the salad taste better. The logic is unexplainable. Buttrust! All that\\\\u2019s left: a drizzle ofhoney, a squeeze oflimeor lemon, and toss it all together! Pomegranate and mintare optional additions for freshness and a pop of color! We\\\\u2019re excited for you to try this fruit salad! It\\\\u2019s:FreshCrunchyVibrantBeautifulLightly sweetenedVeryeasy to make& Perfect for winter! This salad is the best of both worlds: gorgeous enough for the holiday table (include the pomegranate + mint!) and simple enough to throw together when cleaning out an end-of-week fridge! If you try this recipe, let us know! Leave a comment, rate it, and don\\\\u2019t forget to tag a photo@minimalistbakeron Instagram. Cheers, friends! Tag@minimalistbakeron Instagram and hashtag it#minimalistbakerso we can see all the deliciousness!FacebookTwitterPin It FacebookTwitterPin It Recipes Helpful How-tos Recipes Recipes Have a question?Use ctrl+f or \\\\u2318+f on your computer or the \\\\\"find on page\\\\\" function on your phone browser to search existing comments! Need help?Check out this tutorial! Comment: Name* Email* I Made this I Have a Question Notify me of followup comments via e-mail. You can alsosubscribewithout commenting.You will not be subscribed to our newsletter list.   \\\\u0394 Annesays January 4, 2025 at 9:28 pm Made this for Christmas Day. It was beautiful and light and refreshing and everybody loved it! It was a nice addition to the meal to offset the heavier and more indulgent holiday desserts. I\\\\u2019ll definitely make it again! Support @ Minimalist Bakersays January 6, 2025 at 9:37 am Yay! We\\\\u2019re so glad everybody loved it and that it complemented the other dishes nicely. Thank you for making the recipe and sharing your experience, Anne! xo Kimberleysays December 28, 2024 at 3:15 pm Outstanding!  Brought this (with addition of blueberries) to family brunch and took an empty bowl home. Thank you! Support @ Minimalist Bakersays December 30, 2024 at 1:18 pm Yay! We\\\\u2019re so glad it was a hit at your family brunch, Kimberley. Thank you for sharing! xo Sara Werstsays December 25, 2024 at 4:07 am Made this for Christmas brunch and everyone loved it ! The mint adds so much pop and ties in all the flavors ! Support @ Minimalist Bakersays December 27, 2024 at 12:38 pm Yay! We\\\\u2019re so glad everyone enjoyed it at brunch. Thank you for the lovely review, Sara! xo The Vegan Goddesssays December 19, 2024 at 5:49 am Hi!  You\\\\u2019re missing the vegan VG label on this refreshing-looking dish.  : ) Support @ Minimalist Bakersays December 19, 2024 at 9:07 am Hi! We kept it off because of the mention of honey! Jenny Knightsays December 18, 2024 at 7:13 am Thank you for an easy fruit salad to brighten up our winter tables!Do you have a suggestion for a kiwi substitution? Half of my family loves them, but the other half gets itchy mouths when they eat kiwi. Support @ Minimalist Bakersays December 18, 2024 at 9:56 am :) We\\\\u2019re glad you\\\\u2019re excited about the recipe! We think mango or dragonfruit would be nice!  Get our copy ofFAN FAVORITESfeaturing 20 of our most loved, highly-rated recipes! Our FREE 49-Page Fan Favorites e-Book has 20 recipes we think you\\\\u2019ll LOVE!Please enable JavaScript in your browser to complete this form.Email*MessageSubmit Our FREE 49-Page Fan Favorites e-Book has 20 recipes we think you\\\\u2019ll LOVE!Please enable JavaScript in your browser to complete this form.Email*NameSubmit\"}'), Document(metadata={'source': 'C:\\\\Users\\\\USER\\\\Desktop\\\\LangChian Course\\\\LangChain-RAG Course\\\\recipe-generator\\\\scraped_recipes.json', 'seq_num': 3}, page_content='{\"title\": \"Chocolate Tahini Caramels (No Candy Thermometer!)\", \"content\": \"Minimalist Baker Disclosure: This post may contain affiliate links which provide us a small commission when used for purchase. We\\'re grateful for your support! If you love chocolate covered caramels, but not the complicated methods usually required to make them, then this recipe is for you! These EASY vegan sea salt caramels come together with just6 ingredientsand there\\\\u2019sNO candy thermometerin sight. The secret? Tahini! It adds a decadent flavor to these bite-sized delights for the ultimate salty-sweet treat. Perfect for keeping in the freezer or gifting over the holidays\\\\u2026though we\\\\u2019re not sure how many of these tasty treats will make it to the gift box \\\\ud83d\\\\ude09. Let\\\\u2019s make caramels! These vegan caramels begin somewhat like a classic caramel \\\\u2014 with a butter-sugar mixture \\\\u2014 but this version is made withjust atouchof vegan butterand isnaturally sweetenedthanks to maple syrup. It\\\\u2019s subtly flavored with vanilla extract and has salt because sea salt + caramel = LOVE! The mixture is heated to a boil and cooks for a couple minutes to create arich and caramelizedresult. Then we addtahini, which not only gives these caramels a unique and decadent flavor but packs in some mineral-rich goodness, too! PSA: If tahini in sweets sounds odd, then you haven\\\\u2019t tried thesemagicaltahini blondies.  Next, we pour the mixture into a parchment-lined pan and set in thefreezerto chill. Once in the freezer, the mixture will begin to harden. You\\\\u2019ll know you\\\\u2019ve reached caramel territory when it\\\\u2019s holding its structure and is sliceable. The texture of these caramels isnota hard candy but instead is soft andtender. It\\\\u2019s a bit like fudge, but even morebuttery and decadent! The final step: chocolate! Though these caramels don\\\\u2019t need it (they\\\\u2019re incredible on their own),drizzling or dunking in chocolatetakes them over the top. And a sprinkle of sea salt and sesame seeds? Highly recommend! We can\\\\u2019t wait for you to try these vegan caramels! They\\\\u2019re:Salty-sweetDecadentChocolate-coatedEasy to makePerfect for sharing& SO delicious! We love to make a batch and keep them in the freezer for on-demand snacking, but if you can manage to part with these babies, they also make an amazingholiday gift! Just be sure to keep them in the refrigerator or freezer until it\\\\u2019s time to enjoy, because they will melt at room temperature. If you try this recipe, let us know! Leave a comment, rate it, and don\\\\u2019t forget to tag a photo@minimalistbakeron Instagram. Cheers, friends!  Tag@minimalistbakeron Instagram and hashtag it#minimalistbakerso we can see all the deliciousness!FacebookTwitterPin It FacebookTwitterPin It Round-Up Recipes Round-Up Round-Up Have a question?Use ctrl+f or \\\\u2318+f on your computer or the \\\\\"find on page\\\\\" function on your phone browser to search existing comments! Need help?Check out this tutorial! Comment: Name* Email* I Made this I Have a Question Notify me of followup comments via e-mail. You can alsosubscribewithout commenting.You will not be subscribed to our newsletter list.   \\\\u0394 Lacsays January 6, 2025 at 1:29 pm OMG!!!! This caramel recipe is amazing!! I\\\\u2019ve made it twice now. The second time I made the chocolate layer first, chilled the chocolate layer then pour the caramel layer on top it, worked better for me because the caramel layer stayed intact. I will make it again but use 3/4 cup chocolate. The vegan chocolate I use is very strong and it overpowers the caramel layer. Support @ Minimalist Bakersays January 6, 2025 at 4:42 pm YAY! We\\\\u2019re so glad you\\\\u2019ve been enjoying the caramels, Lac. Thank you for the lovely review and for sharing your great trick! xo Rachelsays January 5, 2025 at 7:12 am This was way too salty for us and I ended up having to throw it out. Support @ Minimalist Bakersays January 6, 2025 at 9:40 am Oh no! We\\\\u2019re so sorry you didn\\\\u2019t enjoy the caramels, Rachel. These are salted, but it definitely shouldn\\\\u2019t be in an unpleasant way. Is it possible you were using a salted tahini? Alysonsays January 1, 2025 at 5:40 pm Would it work if I substitute honey for the maple syrup? Support @ Minimalist Bakersays January 1, 2025 at 7:07 pm Hey Alyson! That should work, they might come out more chewy! Vanessasays December 22, 2024 at 6:51 pm I made these this weekend and they were so easy and so delicious! I started with 1/2c melted chocolate chips to just dip half of each piece and still had some leftover, so you can work with less chocolate if needed. The maple and vanilla are sweet enough that you could go as dark as you like with the chocolate and it\\\\u2019s still so rich and tasty! I\\\\u2019m vegan but my friends (omnivores) loved them too! I think they could also be great paired with a vanilla ice cream of choice. Thank you again for another great recipe! Support @ Minimalist Bakersays December 23, 2024 at 10:13 am We\\\\u2019re so glad you enjoyed them Vanessa! Thanks so much for the lovely review. We can confirm they are delicious with vanilla ice cream :) Juliasays December 21, 2024 at 3:05 pm Easy to make & delicious. Softer than I would have liked even straight out of the freezer.  I am totally lacking on the presentation skills and my attempt at drizzling chocolate over them was laughable but flavourful combo was the bomb.  My son didn\\\\u2019t appreciate them because of the \\\\u201cweird\\\\u201d taste which was the tahini .. you can\\\\u2019t please everyone! Support @ Minimalist Bakersays December 23, 2024 at 9:55 am We\\\\u2019re so glad you enjoyed them! If you cook them a little bit more next time they will probably be a bit firmer. Thanks so much for sharing, Julia. xo Debbiesays December 18, 2024 at 2:22 pm These are yummy! I doubled the recipe and they came out great! Thank you for a gluten free and dairy free option for caramels! I will definitely make these again! Support @ Minimalist Bakersays December 19, 2024 at 9:10 am Yay! We\\\\u2019re so glad you enjoyed the recipe and will be making the caramels again. Thank you for the lovely review, Debbie! xo Beckysays December 16, 2024 at 12:56 pm HELP! Trying to make these and followed directions to a T, BUT, when I poor in my runny tahini in my frothy/ foamy maple mixture \\\\u2013 off the heat, everything separates and goes \\\\u201ccrumbly\\\\u201d\\\\u2026 Why?! I don\\\\u2019t have access to MIYOKO\\\\u2019s so I used Earth Balance but that\\\\u2019s my only \\\\u201csub\\\\u201d\\\\u2026 I\\\\u2019m now left with a pan full of tahini stretchy goop and a separate tiny bowl of what seems to be all the oil that separated\\\\u2026 Any inputs? Support @ Minimalist Bakersays December 16, 2024 at 1:12 pm Oh no! We\\\\u2019re so sorry it\\\\u2019s giving you trouble, Becky. It sounds like it\\\\u2019s maybe seizing up? That can happen if the temperature difference is extreme. Is it possible you store your tahini in the refrigerator? If it\\\\u2019s seizing up, something that can fix that is to return it to the stovetop and slowly add a very small amount of boiling water, whisking constantly, until the mixture comes back together. Keep us posted! Jollysays December 13, 2024 at 9:51 pm These are delicious! Very easy and super quick prep time. I\\\\u2019m not vegan, so I used regular unsalted butter. At two hours in the freezer, mine were set up enough to cut. The texture reminded me more of fudge than caramel, but perhaps that was due to the tahini brand I used, which was Trader Joe\\\\u2019s. It may be grainier than others. Nevertheless, they are REALLY GOOD. I will make them again, I have to try them with the chocolate! Support @ Minimalist Bakersays December 16, 2024 at 10:37 am We\\\\u2019re so glad you enjoyed them, Jolly! Thanks so much for the lovely review. xo Fransays December 13, 2024 at 1:57 pm The recipe seemed so easy that I made my mind then and there to make it this last working day of the week, and indeed it took me a few minutes to prepare the caramel and freeze it, and finish an hour later dipping the caramels in the chocolate. When the sweet-tooth strikes, you want something quick to make, even better if it can stay in the freezer for future cravings!! I\\\\u2019m not into salted caramel, but the salty flavour is mild enough I suppose because it\\\\u2019s covered in chocolate! I love that the consistency is like mou, which I hadn\\\\u2019t had in ages since I\\\\u2019m milk intolerant. Thank you! Support @ Minimalist Bakersays December 16, 2024 at 10:34 am We\\\\u2019re so glad you enjoyed them, Fran! Thanks so much for the lovely review. xo Debisays December 12, 2024 at 6:05 pm The recipes from this website are great and I do have one of the cookbooks, but now this website has such invasive ads on it. You can\\\\u2019t even read the recipe most of the time. I will not be using any of your recipes going forward until you fix this problem. The biggest and most egregious ad is the Toyota ad. Support @ Minimalist Bakersays December 16, 2024 at 11:10 am Hi Debi, Thank you for this feedback and sorry for any inconvenience! Ads should not be blocking the ability to read the recipe, so we\\\\u2019re going to see if we can figure out what\\\\u2019s going on with that. Do you happen to have any more details about the ad (placement, for example)? That will help us track it down and get it removed. We always try to optimize for user experience while also having ads to keep the content free and high quality! Rachelsays December 28, 2024 at 12:05 pm Use an ad blocking browser like Brave. Life changing. Joan Dirstinesays December 11, 2024 at 1:50 pm These look delicious.  Can you make them with coconut oil instead of vegan butter? Support @ Minimalist Bakersays December 11, 2024 at 1:59 pm Hi Joan, we haven\\\\u2019t tested with that modification and don\\\\u2019t think the caramels will taste as buttery, but it might work! Let us know if you give it a try! Megan Osays December 10, 2024 at 10:33 pm These were so good and so easy to make 10/10 will definitely be adding this recipe to the rotation Support @ Minimalist Bakersays December 11, 2024 at 8:23 am Yay! We\\\\u2019re so glad you enjoy the caramels and will be making them again. Thank you for sharing, Megan! xo Raesays December 10, 2024 at 10:19 pm Oooo feeling excited to make this. I love tahini anything. Curious if the butter should be salted or unsalted or if it doesn\\\\u2019t really matter? Support @ Minimalist Bakersays December 11, 2024 at 8:22 am Hi Rae, we used salted, but it shouldn\\\\u2019t make a huge difference since it\\\\u2019s a pretty small amount! Suzannesays December 10, 2024 at 9:14 pm Will coconut oil work in place of the butter?These sound so good!!!Thanks so much! Support @ Minimalist Bakersays December 11, 2024 at 8:20 am Hi Suzanne, we haven\\\\u2019t tested this one with coconut oil and don\\\\u2019t think it would taste as buttery, but it might work! The Vegan Goddesssays December 10, 2024 at 6:50 pm OMG, I just drooled a little.  That seems to be a hazard on this site. The only \\\\u201cissue\\\\u201d is that I haven\\\\u2019t found a vegan butter that is devoid of chemicals in it. Is that an essential ingredient that my usual swap of solid coconut oil could not replace? Support @ Minimalist Bakersays December 10, 2024 at 7:51 pm Hi! Thank you for your sweet words :) Are you comfortable using Miyoko\\\\u2019s? That\\\\u2019s our preferred brand for having better ingredients! You could try coconut oil in this one, but it probably won\\\\u2019t be quite as buttery in flavor. Another idea would be to bump up the tahini slightly instead! Let us know if you try it out! The Vegan Goddesssays December 11, 2024 at 9:32 am I just looked up the ingredients and question the following items: sunflower oilsunflower lecithincultured cashew milk (cultured?) Cultured probably means they added something like vinegar to it. Support @ Minimalist Bakersays December 11, 2024 at 11:22 am Everyone\\\\u2019s comfortability will be different! FWIW, sunflower lecithin is used as a supplement for various health benefits and cultured cashew milk could also just mean fermented (like yogurt or kefir is). Maddiesays December 12, 2024 at 3:52 am This looks so good I want to make it before I do the next grocery shop! I\\\\u2019m out of maple syrup. Do you think honey would work? \\\\ud83d\\\\ude42 Support @ Minimalist Bakersays December 12, 2024 at 3:50 pm Hi Maddie, honey might work, but we really love the flavor of maple syrup and tahini together! dreasays December 10, 2024 at 2:31 pm This is absolutely delicious!!!!!!  Easy to make and so tasty!  Thank you!! Support @ Minimalist Bakersays December 10, 2024 at 2:39 pm Yay! You\\\\u2019re fast! We\\\\u2019re so glad you enjoy the recipe, Drea. Thank you for the lovely review! xo  Get our copy ofFAN FAVORITESfeaturing 20 of our most loved, highly-rated recipes! Our FREE 49-Page Fan Favorites e-Book has 20 recipes we think you\\\\u2019ll LOVE!Please enable JavaScript in your browser to complete this form.Email*PhoneSubmit Our FREE 49-Page Fan Favorites e-Book has 20 recipes we think you\\\\u2019ll LOVE!Please enable JavaScript in your browser to complete this form.Email*EmailSubmit\"}')]\n"
     ]
    }
   ],
   "source": [
    "print(\"Loaded documents:\", len(docs))\n",
    "print(docs[:3])"
   ]
  },
  {
   "cell_type": "code",
   "execution_count": 15,
   "metadata": {},
   "outputs": [
    {
     "data": {
      "text/plain": [
       "VectorStoreRetriever(tags=['FAISS', 'OpenAIEmbeddings'], vectorstore=<langchain_community.vectorstores.faiss.FAISS object at 0x000001B3067FDC90>, search_kwargs={})"
      ]
     },
     "execution_count": 15,
     "metadata": {},
     "output_type": "execute_result"
    }
   ],
   "source": [
    "documents = RecursiveCharacterTextSplitter(chunk_size=1000, chunk_overlap=200).split_documents(docs[:100])\n",
    "vectordb = FAISS.from_documents(documents,OpenAIEmbeddings())\n",
    "retriever = vectordb.as_retriever()\n",
    "retriever"
   ]
  },
  {
   "cell_type": "code",
   "execution_count": 19,
   "metadata": {},
   "outputs": [
    {
     "data": {
      "text/plain": [
       "'as I try to avoid consuming too much sugar. I only used 1 Tbsp. pure organic maple syrup, instead of the recommended 1/2 c. coconut sugar, & they were plenty sweet enough due to the medium ripe bananas, so 1 Tbsp. maple syrup worked out perfectly! :) Also I used tapioca starch instead of potato starch, and the texture was absolutely perfect, using flax eggs & added 1/4 c almond flour. Didn\\\\u2019t use walnuts due to allergies. This recipe calls for 10-12 muffins, mine was only 7 muffins, and baking time of 25-30 minutes was enough, anything more than that they would\\\\u2019ve been too dark. I added this recipe to my favorites, & will definitely be making it again. Delicious recipe like always! Thank you, & looking forward to many more! Support @ Minimalist Bakersays February 5, 2024 at 1:47 pm We\\\\u2019re so glad you enjoyed them, Melissa! Thanks so much for the lovely review and for sharing your modifications. xo Cheryl Renocksays February 1, 2024 at 3:44 pm I want to make these however'"
      ]
     },
     "execution_count": 19,
     "metadata": {},
     "output_type": "execute_result"
    }
   ],
   "source": [
    "## Query search on the FAISS Vector database\n",
    "query = \"What are the best approach in preparing Banana Chocolate Pecan Muffins\"\n",
    "result = vectordb.similarity_search(query)\n",
    "result[0].page_content"
   ]
  },
  {
   "cell_type": "code",
   "execution_count": 21,
   "metadata": {},
   "outputs": [
    {
     "data": {
      "text/plain": [
       "Tool(name='recipe_search', description='Search for recipes based on ingredients, cuisine, or dietary preferences. Use this tool to find relevant recipes!', args_schema=<class 'langchain_core.tools.retriever.RetrieverInput'>, func=functools.partial(<function _get_relevant_documents at 0x000001B306B88180>, retriever=VectorStoreRetriever(tags=['FAISS', 'OpenAIEmbeddings'], vectorstore=<langchain_community.vectorstores.faiss.FAISS object at 0x000001B3067FDC90>, search_kwargs={}), document_prompt=PromptTemplate(input_variables=['page_content'], input_types={}, partial_variables={}, template='{page_content}'), document_separator='\\n\\n'), coroutine=functools.partial(<function _aget_relevant_documents at 0x000001B306C46840>, retriever=VectorStoreRetriever(tags=['FAISS', 'OpenAIEmbeddings'], vectorstore=<langchain_community.vectorstores.faiss.FAISS object at 0x000001B3067FDC90>, search_kwargs={}), document_prompt=PromptTemplate(input_variables=['page_content'], input_types={}, partial_variables={}, template='{page_content}'), document_separator='\\n\\n'))"
      ]
     },
     "execution_count": 21,
     "metadata": {},
     "output_type": "execute_result"
    }
   ],
   "source": [
    "# Create a retriever tool for searching recipes\n",
    "retriever_tool = create_retriever_tool(\n",
    "    retriever,\n",
    "    \"recipe_search\",\n",
    "    \"Search for recipes based on ingredients, cuisine, or dietary preferences. Use this tool to find relevant recipes!\"\n",
    ")\n",
    "\n",
    "retriever_tool"
   ]
  },
  {
   "cell_type": "code",
   "execution_count": 23,
   "metadata": {},
   "outputs": [],
   "source": [
    "# Load the wikipedia tool\n",
    "api_wrapper = WikipediaAPIWrapper(top_k_results=1, doc_content_chars_max=200)\n",
    "wiki = WikipediaQueryRun(api_wrapper=api_wrapper)"
   ]
  },
  {
   "cell_type": "code",
   "execution_count": null,
   "metadata": {},
   "outputs": [],
   "source": []
  },
  {
   "cell_type": "code",
   "execution_count": 44,
   "metadata": {},
   "outputs": [],
   "source": [
    "# Combine the tools\n",
    "tools = [retriever_tool, wiki]\n",
    "\n",
    "# Instantiate an llm\n",
    "llm = ChatOpenAI(model=\"gpt-3.5-turbo\", temperature=0)\n",
    "\n",
    "# Promt\n",
    "prompt = ChatPromptTemplate.from_template(\n",
    "    \"\"\"\n",
    "    You are a smart recipe assistant. Provide answers to recipe-related questions based only on the given context.\n",
    "    Make sure to offer detailed and step-by-step guidance to help the user.\n",
    "\n",
    "    <context>\n",
    "    {context}\n",
    "    </context>\n",
    "\n",
    "    Question: {input}\n",
    "\n",
    "    Your Answer:\n",
    "    \"\"\"\n",
    ")\n"
   ]
  },
  {
   "cell_type": "code",
   "execution_count": 46,
   "metadata": {},
   "outputs": [],
   "source": [
    "document_chain = create_stuff_documents_chain(llm, prompt)"
   ]
  },
  {
   "cell_type": "code",
   "execution_count": 47,
   "metadata": {},
   "outputs": [],
   "source": [
    "## Create a retrieval chain\n",
    "from langchain.chains import create_retrieval_chain\n",
    "retrieval_chain = create_retrieval_chain(retriever, document_chain)\n",
    "\n",
    "response = retrieval_chain.invoke({\"input\": \"How can I prepare Garlic & Herb Breaded Delicata Squash?\"})"
   ]
  },
  {
   "cell_type": "code",
   "execution_count": 48,
   "metadata": {},
   "outputs": [
    {
     "data": {
      "text/plain": [
       "'To prepare Garlic & Herb Breaded Delicata Squash, follow these steps:\\n\\n1. Preheat your oven to 400°F (200°C).\\n2. In a bowl, mix together 1 cup of panko breadcrumbs, 2 tablespoons of nutritional yeast, 1 teaspoon of dried rosemary, 1 teaspoon of garlic powder, and a pinch of sea salt. Optionally, you can add some fresh parsley for color.\\n3. Slice your delicata squash into 1/2-inch thick pieces.\\n4. Dip each squash slice into a bowl of olive oil to help the breading stick.\\n5. Press the oiled squash slices into the breadcrumb mixture, coating them on all sides.\\n6. Place the coated squash slices on a baking sheet lined with parchment paper.\\n7. Bake in the preheated oven for about 15 minutes or until the breading is golden brown and the squash is tender.\\n8. Once done, remove from the oven and serve your Garlic & Herb Breaded Delicata Squash as a crispy, tender, herby, garlicky, and flavorful side dish.\\n\\nEnjoy your delicious roasted delicata squash!'"
      ]
     },
     "execution_count": 48,
     "metadata": {},
     "output_type": "execute_result"
    }
   ],
   "source": [
    "response['answer']"
   ]
  },
  {
   "cell_type": "code",
   "execution_count": null,
   "metadata": {},
   "outputs": [],
   "source": []
  }
 ],
 "metadata": {
  "kernelspec": {
   "display_name": "lc-rag-env",
   "language": "python",
   "name": "python3"
  },
  "language_info": {
   "codemirror_mode": {
    "name": "ipython",
    "version": 3
   },
   "file_extension": ".py",
   "mimetype": "text/x-python",
   "name": "python",
   "nbconvert_exporter": "python",
   "pygments_lexer": "ipython3",
   "version": "3.11.8"
  }
 },
 "nbformat": 4,
 "nbformat_minor": 2
}
